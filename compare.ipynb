{
  "cells": [
    {
      "cell_type": "markdown",
      "metadata": {
        "id": "view-in-github",
        "colab_type": "text"
      },
      "source": [
        "<a href=\"https://colab.research.google.com/github/alyazakhira/embedding-compare/blob/main/compare.ipynb\" target=\"_parent\"><img src=\"https://colab.research.google.com/assets/colab-badge.svg\" alt=\"Open In Colab\"/></a>"
      ]
    },
    {
      "cell_type": "markdown",
      "source": [
        "# Requirements"
      ],
      "metadata": {
        "id": "4gmkO_rUMpuF"
      }
    },
    {
      "cell_type": "code",
      "source": [
        "from google.colab import drive\n",
        "drive.mount('/content/drive')"
      ],
      "metadata": {
        "colab": {
          "base_uri": "https://localhost:8080/"
        },
        "id": "kM-hwogTZoR7",
        "outputId": "3cb64ba9-b25c-4fc5-966b-33a8359f7a60"
      },
      "execution_count": null,
      "outputs": [
        {
          "output_type": "stream",
          "name": "stdout",
          "text": [
            "Mounted at /content/drive\n"
          ]
        }
      ]
    },
    {
      "cell_type": "code",
      "source": [
        "# !pip install fasttext\n",
        "!wget https://dl.fbaipublicfiles.com/fasttext/vectors-crawl/cc.id.300.bin.gz\n",
        "!gunzip cc.id.300.bin.gz"
      ],
      "metadata": {
        "colab": {
          "base_uri": "https://localhost:8080/"
        },
        "id": "Rnv1fzKsZdt4",
        "outputId": "f6f86e9c-3649-40d9-d27b-5fe30f668e4f",
        "collapsed": true
      },
      "execution_count": null,
      "outputs": [
        {
          "output_type": "stream",
          "name": "stdout",
          "text": [
            "--2025-06-13 06:19:39--  https://dl.fbaipublicfiles.com/fasttext/vectors-crawl/cc.id.300.bin.gz\n",
            "Resolving dl.fbaipublicfiles.com (dl.fbaipublicfiles.com)... 18.173.166.48, 18.173.166.51, 18.173.166.31, ...\n",
            "Connecting to dl.fbaipublicfiles.com (dl.fbaipublicfiles.com)|18.173.166.48|:443... connected.\n",
            "HTTP request sent, awaiting response... 200 OK\n",
            "Length: 4507049071 (4.2G) [application/octet-stream]\n",
            "Saving to: ‘cc.id.300.bin.gz’\n",
            "\n",
            "cc.id.300.bin.gz    100%[===================>]   4.20G  24.5MB/s    in 77s     \n",
            "\n",
            "2025-06-13 06:20:57 (55.6 MB/s) - ‘cc.id.300.bin.gz’ saved [4507049071/4507049071]\n",
            "\n"
          ]
        }
      ]
    },
    {
      "cell_type": "code",
      "execution_count": null,
      "metadata": {
        "colab": {
          "base_uri": "https://localhost:8080/"
        },
        "id": "7is6dgonwD4o",
        "outputId": "57bb9e55-bc2e-48a3-aabd-bccc0559676a"
      },
      "outputs": [
        {
          "output_type": "stream",
          "name": "stderr",
          "text": [
            "[nltk_data] Downloading package punkt to /root/nltk_data...\n",
            "[nltk_data]   Unzipping tokenizers/punkt.zip.\n",
            "[nltk_data] Downloading package punkt_tab to /root/nltk_data...\n",
            "[nltk_data]   Unzipping tokenizers/punkt_tab.zip.\n",
            "[nltk_data] Downloading package averaged_perceptron_tagger_eng to\n",
            "[nltk_data]     /root/nltk_data...\n",
            "[nltk_data]   Unzipping taggers/averaged_perceptron_tagger_eng.zip.\n",
            "[nltk_data] Downloading package wordnet to /root/nltk_data...\n",
            "[nltk_data] Downloading package omw-1.4 to /root/nltk_data...\n"
          ]
        },
        {
          "output_type": "execute_result",
          "data": {
            "text/plain": [
              "True"
            ]
          },
          "metadata": {},
          "execution_count": 2
        }
      ],
      "source": [
        "import numpy as np\n",
        "import pandas as pd\n",
        "from pandas import DataFrame\n",
        "import csv\n",
        "import string\n",
        "import re\n",
        "\n",
        "import torch\n",
        "import nltk\n",
        "import tensorflow as tf\n",
        "from nltk import pos_tag\n",
        "from nltk.corpus import wordnet as wn\n",
        "from nltk.corpus import stopwords\n",
        "from nltk.tokenize import word_tokenize\n",
        "\n",
        "import matplotlib.pyplot as plt\n",
        "from sklearn.metrics.pairwise import cosine_similarity\n",
        "from sklearn.metrics import confusion_matrix, classification_report\n",
        "from transformers import BertTokenizer, BertModel\n",
        "import tensorflow_hub as hub\n",
        "# import fasttext\n",
        "\n",
        "nltk.download('punkt')\n",
        "nltk.download('punkt_tab')\n",
        "nltk.download('averaged_perceptron_tagger_eng')\n",
        "nltk.download('wordnet')\n",
        "nltk.download('omw-1.4')"
      ]
    },
    {
      "cell_type": "code",
      "execution_count": null,
      "metadata": {
        "id": "rDPFSarkv9l7"
      },
      "outputs": [],
      "source": [
        "# bert_tokenizer = BertTokenizer.from_pretrained('indobenchmark/indobert-base-p1')\n",
        "# bert_model = BertModel.from_pretrained('indobenchmark/indobert-base-p1')\n",
        "elmo = hub.load(\"https://www.kaggle.com/models/google/elmo/TensorFlow1/elmo/3\")\n",
        "# ft_model = fasttext.load_model('cc.id.300.bin')\n",
        "id_wn = wn"
      ]
    },
    {
      "cell_type": "markdown",
      "source": [
        "# Dataset"
      ],
      "metadata": {
        "id": "LQDK9UQ6ZmOj"
      }
    },
    {
      "cell_type": "code",
      "source": [
        "data_sport = pd.read_csv(\"drive/My Drive/Proyek Akhir/Dataset/Dataset Fix/sport_processed.csv\", delimiter=',')\n",
        "data_pol = pd.read_csv(\"drive/My Drive/Proyek Akhir/Dataset/Dataset Fix/politics_processed.csv\", delimiter=',')\n",
        "data_life = pd.read_csv(\"drive/My Drive/Proyek Akhir/Dataset/Dataset Fix/lifestyle_processed.csv\", delimiter=',')\n",
        "data_tech = pd.read_csv(\"drive/My Drive/Proyek Akhir/Dataset/Dataset Fix/technology_processed.csv\", delimiter=',')"
      ],
      "metadata": {
        "id": "CcoJvOy4Zpv9"
      },
      "execution_count": null,
      "outputs": []
    },
    {
      "cell_type": "code",
      "source": [
        "data_life.head()"
      ],
      "metadata": {
        "colab": {
          "base_uri": "https://localhost:8080/",
          "height": 206
        },
        "id": "gn7Ebnq5i23n",
        "outputId": "7e1f7ea0-d67b-4449-f097-88bbc80a2fae"
      },
      "execution_count": null,
      "outputs": [
        {
          "output_type": "execute_result",
          "data": {
            "text/plain": [
              "   question_id                                     student_answer  \\\n",
              "0  lifestyle_1  sumber tenaga, pemanis alami, menjaga sistem i...   \n",
              "1  lifestyle_1  sebagai sumber energi, pemanis alami, menjaga ...   \n",
              "2  lifestyle_1  1. Sebagai energi. 2. Sebagai memperlancaar pe...   \n",
              "3  lifestyle_1  untuk membuat kenyang, agar tidak lapar, agar ...   \n",
              "4  lifestyle_1  Karbohidrat mempunyai peran penting untuk pros...   \n",
              "\n",
              "                                          key_answer  manual_average_score  \\\n",
              "0  Fungsi karbohidrat adalah sebagai pemasok ener...             26.666667   \n",
              "1  Fungsi karbohidrat adalah sebagai pemasok ener...             21.000000   \n",
              "2  Fungsi karbohidrat adalah sebagai pemasok ener...             41.666667   \n",
              "3  Fungsi karbohidrat adalah sebagai pemasok ener...             18.333333   \n",
              "4  Fungsi karbohidrat adalah sebagai pemasok ener...             81.666667   \n",
              "\n",
              "   label  \n",
              "0      0  \n",
              "1      0  \n",
              "2      0  \n",
              "3      0  \n",
              "4      1  "
            ],
            "text/html": [
              "\n",
              "  <div id=\"df-23395c4b-22dc-4cc5-a55b-2e758ae5df83\" class=\"colab-df-container\">\n",
              "    <div>\n",
              "<style scoped>\n",
              "    .dataframe tbody tr th:only-of-type {\n",
              "        vertical-align: middle;\n",
              "    }\n",
              "\n",
              "    .dataframe tbody tr th {\n",
              "        vertical-align: top;\n",
              "    }\n",
              "\n",
              "    .dataframe thead th {\n",
              "        text-align: right;\n",
              "    }\n",
              "</style>\n",
              "<table border=\"1\" class=\"dataframe\">\n",
              "  <thead>\n",
              "    <tr style=\"text-align: right;\">\n",
              "      <th></th>\n",
              "      <th>question_id</th>\n",
              "      <th>student_answer</th>\n",
              "      <th>key_answer</th>\n",
              "      <th>manual_average_score</th>\n",
              "      <th>label</th>\n",
              "    </tr>\n",
              "  </thead>\n",
              "  <tbody>\n",
              "    <tr>\n",
              "      <th>0</th>\n",
              "      <td>lifestyle_1</td>\n",
              "      <td>sumber tenaga, pemanis alami, menjaga sistem i...</td>\n",
              "      <td>Fungsi karbohidrat adalah sebagai pemasok ener...</td>\n",
              "      <td>26.666667</td>\n",
              "      <td>0</td>\n",
              "    </tr>\n",
              "    <tr>\n",
              "      <th>1</th>\n",
              "      <td>lifestyle_1</td>\n",
              "      <td>sebagai sumber energi, pemanis alami, menjaga ...</td>\n",
              "      <td>Fungsi karbohidrat adalah sebagai pemasok ener...</td>\n",
              "      <td>21.000000</td>\n",
              "      <td>0</td>\n",
              "    </tr>\n",
              "    <tr>\n",
              "      <th>2</th>\n",
              "      <td>lifestyle_1</td>\n",
              "      <td>1. Sebagai energi. 2. Sebagai memperlancaar pe...</td>\n",
              "      <td>Fungsi karbohidrat adalah sebagai pemasok ener...</td>\n",
              "      <td>41.666667</td>\n",
              "      <td>0</td>\n",
              "    </tr>\n",
              "    <tr>\n",
              "      <th>3</th>\n",
              "      <td>lifestyle_1</td>\n",
              "      <td>untuk membuat kenyang, agar tidak lapar, agar ...</td>\n",
              "      <td>Fungsi karbohidrat adalah sebagai pemasok ener...</td>\n",
              "      <td>18.333333</td>\n",
              "      <td>0</td>\n",
              "    </tr>\n",
              "    <tr>\n",
              "      <th>4</th>\n",
              "      <td>lifestyle_1</td>\n",
              "      <td>Karbohidrat mempunyai peran penting untuk pros...</td>\n",
              "      <td>Fungsi karbohidrat adalah sebagai pemasok ener...</td>\n",
              "      <td>81.666667</td>\n",
              "      <td>1</td>\n",
              "    </tr>\n",
              "  </tbody>\n",
              "</table>\n",
              "</div>\n",
              "    <div class=\"colab-df-buttons\">\n",
              "\n",
              "  <div class=\"colab-df-container\">\n",
              "    <button class=\"colab-df-convert\" onclick=\"convertToInteractive('df-23395c4b-22dc-4cc5-a55b-2e758ae5df83')\"\n",
              "            title=\"Convert this dataframe to an interactive table.\"\n",
              "            style=\"display:none;\">\n",
              "\n",
              "  <svg xmlns=\"http://www.w3.org/2000/svg\" height=\"24px\" viewBox=\"0 -960 960 960\">\n",
              "    <path d=\"M120-120v-720h720v720H120Zm60-500h600v-160H180v160Zm220 220h160v-160H400v160Zm0 220h160v-160H400v160ZM180-400h160v-160H180v160Zm440 0h160v-160H620v160ZM180-180h160v-160H180v160Zm440 0h160v-160H620v160Z\"/>\n",
              "  </svg>\n",
              "    </button>\n",
              "\n",
              "  <style>\n",
              "    .colab-df-container {\n",
              "      display:flex;\n",
              "      gap: 12px;\n",
              "    }\n",
              "\n",
              "    .colab-df-convert {\n",
              "      background-color: #E8F0FE;\n",
              "      border: none;\n",
              "      border-radius: 50%;\n",
              "      cursor: pointer;\n",
              "      display: none;\n",
              "      fill: #1967D2;\n",
              "      height: 32px;\n",
              "      padding: 0 0 0 0;\n",
              "      width: 32px;\n",
              "    }\n",
              "\n",
              "    .colab-df-convert:hover {\n",
              "      background-color: #E2EBFA;\n",
              "      box-shadow: 0px 1px 2px rgba(60, 64, 67, 0.3), 0px 1px 3px 1px rgba(60, 64, 67, 0.15);\n",
              "      fill: #174EA6;\n",
              "    }\n",
              "\n",
              "    .colab-df-buttons div {\n",
              "      margin-bottom: 4px;\n",
              "    }\n",
              "\n",
              "    [theme=dark] .colab-df-convert {\n",
              "      background-color: #3B4455;\n",
              "      fill: #D2E3FC;\n",
              "    }\n",
              "\n",
              "    [theme=dark] .colab-df-convert:hover {\n",
              "      background-color: #434B5C;\n",
              "      box-shadow: 0px 1px 3px 1px rgba(0, 0, 0, 0.15);\n",
              "      filter: drop-shadow(0px 1px 2px rgba(0, 0, 0, 0.3));\n",
              "      fill: #FFFFFF;\n",
              "    }\n",
              "  </style>\n",
              "\n",
              "    <script>\n",
              "      const buttonEl =\n",
              "        document.querySelector('#df-23395c4b-22dc-4cc5-a55b-2e758ae5df83 button.colab-df-convert');\n",
              "      buttonEl.style.display =\n",
              "        google.colab.kernel.accessAllowed ? 'block' : 'none';\n",
              "\n",
              "      async function convertToInteractive(key) {\n",
              "        const element = document.querySelector('#df-23395c4b-22dc-4cc5-a55b-2e758ae5df83');\n",
              "        const dataTable =\n",
              "          await google.colab.kernel.invokeFunction('convertToInteractive',\n",
              "                                                    [key], {});\n",
              "        if (!dataTable) return;\n",
              "\n",
              "        const docLinkHtml = 'Like what you see? Visit the ' +\n",
              "          '<a target=\"_blank\" href=https://colab.research.google.com/notebooks/data_table.ipynb>data table notebook</a>'\n",
              "          + ' to learn more about interactive tables.';\n",
              "        element.innerHTML = '';\n",
              "        dataTable['output_type'] = 'display_data';\n",
              "        await google.colab.output.renderOutput(dataTable, element);\n",
              "        const docLink = document.createElement('div');\n",
              "        docLink.innerHTML = docLinkHtml;\n",
              "        element.appendChild(docLink);\n",
              "      }\n",
              "    </script>\n",
              "  </div>\n",
              "\n",
              "\n",
              "    <div id=\"df-fd0bd378-bdd5-46f0-89b5-e09d4a5ca266\">\n",
              "      <button class=\"colab-df-quickchart\" onclick=\"quickchart('df-fd0bd378-bdd5-46f0-89b5-e09d4a5ca266')\"\n",
              "                title=\"Suggest charts\"\n",
              "                style=\"display:none;\">\n",
              "\n",
              "<svg xmlns=\"http://www.w3.org/2000/svg\" height=\"24px\"viewBox=\"0 0 24 24\"\n",
              "     width=\"24px\">\n",
              "    <g>\n",
              "        <path d=\"M19 3H5c-1.1 0-2 .9-2 2v14c0 1.1.9 2 2 2h14c1.1 0 2-.9 2-2V5c0-1.1-.9-2-2-2zM9 17H7v-7h2v7zm4 0h-2V7h2v10zm4 0h-2v-4h2v4z\"/>\n",
              "    </g>\n",
              "</svg>\n",
              "      </button>\n",
              "\n",
              "<style>\n",
              "  .colab-df-quickchart {\n",
              "      --bg-color: #E8F0FE;\n",
              "      --fill-color: #1967D2;\n",
              "      --hover-bg-color: #E2EBFA;\n",
              "      --hover-fill-color: #174EA6;\n",
              "      --disabled-fill-color: #AAA;\n",
              "      --disabled-bg-color: #DDD;\n",
              "  }\n",
              "\n",
              "  [theme=dark] .colab-df-quickchart {\n",
              "      --bg-color: #3B4455;\n",
              "      --fill-color: #D2E3FC;\n",
              "      --hover-bg-color: #434B5C;\n",
              "      --hover-fill-color: #FFFFFF;\n",
              "      --disabled-bg-color: #3B4455;\n",
              "      --disabled-fill-color: #666;\n",
              "  }\n",
              "\n",
              "  .colab-df-quickchart {\n",
              "    background-color: var(--bg-color);\n",
              "    border: none;\n",
              "    border-radius: 50%;\n",
              "    cursor: pointer;\n",
              "    display: none;\n",
              "    fill: var(--fill-color);\n",
              "    height: 32px;\n",
              "    padding: 0;\n",
              "    width: 32px;\n",
              "  }\n",
              "\n",
              "  .colab-df-quickchart:hover {\n",
              "    background-color: var(--hover-bg-color);\n",
              "    box-shadow: 0 1px 2px rgba(60, 64, 67, 0.3), 0 1px 3px 1px rgba(60, 64, 67, 0.15);\n",
              "    fill: var(--button-hover-fill-color);\n",
              "  }\n",
              "\n",
              "  .colab-df-quickchart-complete:disabled,\n",
              "  .colab-df-quickchart-complete:disabled:hover {\n",
              "    background-color: var(--disabled-bg-color);\n",
              "    fill: var(--disabled-fill-color);\n",
              "    box-shadow: none;\n",
              "  }\n",
              "\n",
              "  .colab-df-spinner {\n",
              "    border: 2px solid var(--fill-color);\n",
              "    border-color: transparent;\n",
              "    border-bottom-color: var(--fill-color);\n",
              "    animation:\n",
              "      spin 1s steps(1) infinite;\n",
              "  }\n",
              "\n",
              "  @keyframes spin {\n",
              "    0% {\n",
              "      border-color: transparent;\n",
              "      border-bottom-color: var(--fill-color);\n",
              "      border-left-color: var(--fill-color);\n",
              "    }\n",
              "    20% {\n",
              "      border-color: transparent;\n",
              "      border-left-color: var(--fill-color);\n",
              "      border-top-color: var(--fill-color);\n",
              "    }\n",
              "    30% {\n",
              "      border-color: transparent;\n",
              "      border-left-color: var(--fill-color);\n",
              "      border-top-color: var(--fill-color);\n",
              "      border-right-color: var(--fill-color);\n",
              "    }\n",
              "    40% {\n",
              "      border-color: transparent;\n",
              "      border-right-color: var(--fill-color);\n",
              "      border-top-color: var(--fill-color);\n",
              "    }\n",
              "    60% {\n",
              "      border-color: transparent;\n",
              "      border-right-color: var(--fill-color);\n",
              "    }\n",
              "    80% {\n",
              "      border-color: transparent;\n",
              "      border-right-color: var(--fill-color);\n",
              "      border-bottom-color: var(--fill-color);\n",
              "    }\n",
              "    90% {\n",
              "      border-color: transparent;\n",
              "      border-bottom-color: var(--fill-color);\n",
              "    }\n",
              "  }\n",
              "</style>\n",
              "\n",
              "      <script>\n",
              "        async function quickchart(key) {\n",
              "          const quickchartButtonEl =\n",
              "            document.querySelector('#' + key + ' button');\n",
              "          quickchartButtonEl.disabled = true;  // To prevent multiple clicks.\n",
              "          quickchartButtonEl.classList.add('colab-df-spinner');\n",
              "          try {\n",
              "            const charts = await google.colab.kernel.invokeFunction(\n",
              "                'suggestCharts', [key], {});\n",
              "          } catch (error) {\n",
              "            console.error('Error during call to suggestCharts:', error);\n",
              "          }\n",
              "          quickchartButtonEl.classList.remove('colab-df-spinner');\n",
              "          quickchartButtonEl.classList.add('colab-df-quickchart-complete');\n",
              "        }\n",
              "        (() => {\n",
              "          let quickchartButtonEl =\n",
              "            document.querySelector('#df-fd0bd378-bdd5-46f0-89b5-e09d4a5ca266 button');\n",
              "          quickchartButtonEl.style.display =\n",
              "            google.colab.kernel.accessAllowed ? 'block' : 'none';\n",
              "        })();\n",
              "      </script>\n",
              "    </div>\n",
              "\n",
              "    </div>\n",
              "  </div>\n"
            ],
            "application/vnd.google.colaboratory.intrinsic+json": {
              "type": "dataframe",
              "variable_name": "data_life",
              "summary": "{\n  \"name\": \"data_life\",\n  \"rows\": 568,\n  \"fields\": [\n    {\n      \"column\": \"question_id\",\n      \"properties\": {\n        \"dtype\": \"category\",\n        \"num_unique_values\": 10,\n        \"samples\": [\n          \"lifestyle_9\",\n          \"lifestyle_2\",\n          \"lifestyle_6\"\n        ],\n        \"semantic_type\": \"\",\n        \"description\": \"\"\n      }\n    },\n    {\n      \"column\": \"student_answer\",\n      \"properties\": {\n        \"dtype\": \"string\",\n        \"num_unique_values\": 558,\n        \"samples\": [\n          \"keramas, di sisir, krimbat, di potong, di beri vitamin, jangan di ikat dengan keras, di panjankan, jangan di semir, jangan pakai topi lama-lama, gunakan sampo mengandung zinc \",\n          \"makanan yang begisi dan memiliki banyak protein untuk kekebalan sistem inmun tubuh \",\n          \"karbohidrak untuk tubuh manusia berguna untuk memberikan energi bagi tubuh kita. \"\n        ],\n        \"semantic_type\": \"\",\n        \"description\": \"\"\n      }\n    },\n    {\n      \"column\": \"key_answer\",\n      \"properties\": {\n        \"dtype\": \"category\",\n        \"num_unique_values\": 10,\n        \"samples\": [\n          \"Makanan 4 sehat 5 sempurna adalah konsep makanan sehat yang dikampanyekan pemerintah sejak tahun 1955. Dalam konsep 4 sehat 5 sempurna, makanan sehat adalah makanan yang mengandung 4 sumber nutrisi yaitu makanan pokok, lauk pauk, sayur-sayuran, buah-buahan, dan disempurnakan dengan susu. Jika dilihat dari kandungannya, makanan 4 sehat 5 sempurna adalah makanan yang mengandung karbohidrat, protein, mineral, vitamin, dan lemak tak jenuh.\",\n          \"1. Bermanfaat untuk pasien kemoterapi Karena kandungan protein yang tinggi , putih telur sangat disarankan untuk kemoterapi dan pasien ginjal. 2. Masker wajah Putih telur juga banyak digunakan untuk masker wajah, dimana diyakini dapat mengenyalkan, serta mencerahkan kulit. 3. Kekebalan tubuh dan kesehatan mata Secara keseluruhan , telur baik untuk menjaga sistem kekebalan tubuh, dan telah digunakan untuk mengobati katarak , degenerasi makula dan membantu untuk membangun tulang yang kuat. 4. Membantu diet Karena putih telur tinggi protein, maka ia bisa menggantikan kebutuhan karbohidrat bagi yang sedang diet menurunkan berat badan. Manfaat protein termasuk juga bisa menggantikan fungsi karbohidrat untuk energi.\",\n          \"Gaya hidup hedonis (hedonism) adalah suatu pola hidup yang aktivitasnya untuk mencari kesenangan hidup, seperti lebih banyak menghabiskan waktu diluar rumah, lebih banyak bermain, senang pada keramaian kota, senang membeli barang mahal yang disenanginya, serta selalu ingin menjadi pusat perhatian.\"\n        ],\n        \"semantic_type\": \"\",\n        \"description\": \"\"\n      }\n    },\n    {\n      \"column\": \"manual_average_score\",\n      \"properties\": {\n        \"dtype\": \"number\",\n        \"std\": 16.47407014706975,\n        \"min\": 1.0,\n        \"max\": 95.0,\n        \"num_unique_values\": 143,\n        \"samples\": [\n          65.0,\n          5.0,\n          7.0\n        ],\n        \"semantic_type\": \"\",\n        \"description\": \"\"\n      }\n    },\n    {\n      \"column\": \"label\",\n      \"properties\": {\n        \"dtype\": \"number\",\n        \"std\": 0,\n        \"min\": 0,\n        \"max\": 1,\n        \"num_unique_values\": 2,\n        \"samples\": [\n          1,\n          0\n        ],\n        \"semantic_type\": \"\",\n        \"description\": \"\"\n      }\n    }\n  ]\n}"
            }
          },
          "metadata": {},
          "execution_count": 5
        }
      ]
    },
    {
      "cell_type": "code",
      "source": [
        "data_life.iloc[526]"
      ],
      "metadata": {
        "colab": {
          "base_uri": "https://localhost:8080/",
          "height": 241
        },
        "id": "93GFDH4j_cLK",
        "outputId": "a3f78c9f-9469-4e93-e2a2-ea6e62fd41c6"
      },
      "execution_count": null,
      "outputs": [
        {
          "output_type": "execute_result",
          "data": {
            "text/plain": [
              "question_id                                                  lifestyle_10\n",
              "student_answer                                                         - \n",
              "key_answer              Otak merupakan bagian terpenting dari tubuh ma...\n",
              "manual_average_score                                                  1.0\n",
              "label                                                                   0\n",
              "Name: 526, dtype: object"
            ],
            "text/html": [
              "<div>\n",
              "<style scoped>\n",
              "    .dataframe tbody tr th:only-of-type {\n",
              "        vertical-align: middle;\n",
              "    }\n",
              "\n",
              "    .dataframe tbody tr th {\n",
              "        vertical-align: top;\n",
              "    }\n",
              "\n",
              "    .dataframe thead th {\n",
              "        text-align: right;\n",
              "    }\n",
              "</style>\n",
              "<table border=\"1\" class=\"dataframe\">\n",
              "  <thead>\n",
              "    <tr style=\"text-align: right;\">\n",
              "      <th></th>\n",
              "      <th>526</th>\n",
              "    </tr>\n",
              "  </thead>\n",
              "  <tbody>\n",
              "    <tr>\n",
              "      <th>question_id</th>\n",
              "      <td>lifestyle_10</td>\n",
              "    </tr>\n",
              "    <tr>\n",
              "      <th>student_answer</th>\n",
              "      <td>-</td>\n",
              "    </tr>\n",
              "    <tr>\n",
              "      <th>key_answer</th>\n",
              "      <td>Otak merupakan bagian terpenting dari tubuh ma...</td>\n",
              "    </tr>\n",
              "    <tr>\n",
              "      <th>manual_average_score</th>\n",
              "      <td>1.0</td>\n",
              "    </tr>\n",
              "    <tr>\n",
              "      <th>label</th>\n",
              "      <td>0</td>\n",
              "    </tr>\n",
              "  </tbody>\n",
              "</table>\n",
              "</div><br><label><b>dtype:</b> object</label>"
            ]
          },
          "metadata": {},
          "execution_count": 27
        }
      ]
    },
    {
      "cell_type": "markdown",
      "source": [
        "# Function"
      ],
      "metadata": {
        "id": "pPYla-AMM1jC"
      }
    },
    {
      "cell_type": "markdown",
      "source": [
        "## Pre-processing"
      ],
      "metadata": {
        "id": "p1mnMtw1ZxBV"
      }
    },
    {
      "cell_type": "markdown",
      "source": [
        "### Data Preprocessing"
      ],
      "metadata": {
        "id": "xXhD-j_0ZzYt"
      }
    },
    {
      "cell_type": "code",
      "source": [
        "def data_preprocess(df):\n",
        "  df_clean = df.dropna()                                                                            # Remove missing values\n",
        "  df_clean = df[~df['student_answer'].apply(lambda x: isinstance(x, str) and len(x.strip()) == 1)]  # Remove rows with 1 character strings\n",
        "  return df_clean"
      ],
      "metadata": {
        "id": "-PMgX5r4Z35X"
      },
      "execution_count": null,
      "outputs": []
    },
    {
      "cell_type": "code",
      "source": [
        "data_life = data_preprocess(data_life)\n",
        "data_sport = data_preprocess(data_sport)\n",
        "data_pol = data_preprocess(data_pol)\n",
        "data_tech = data_preprocess(data_tech)"
      ],
      "metadata": {
        "id": "pjYOOpnII3TW"
      },
      "execution_count": null,
      "outputs": []
    },
    {
      "cell_type": "markdown",
      "source": [
        "### Text Preprocessing"
      ],
      "metadata": {
        "id": "KX311jZVZ1Vj"
      }
    },
    {
      "cell_type": "code",
      "source": [
        "def replace_punctuation(text):\n",
        "  text = text.replace('/',' atau ')\n",
        "  text = text.replace('&',' dan ')\n",
        "  return text\n",
        "\n",
        "def truncate_text(text, max_tokens=512):\n",
        "  tokens = word_tokenize(text)\n",
        "  truncated_tokens = tokens[:max_tokens]\n",
        "  return ' '.join(truncated_tokens)\n",
        "\n",
        "def text_preprocessing(text):\n",
        "  text = text.lower()                             # Casefolding\n",
        "  text = replace_punctuation(text)                # Replace punctuation\n",
        "  text = re.sub(r'\\d+', '', text)                 # Remove numeric\n",
        "  text = re.sub(r'\\s+', ' ', text).strip()        # Whitespace normalization\n",
        "  text = re.sub(r'[^\\w\\s]', '', text)\n",
        "  text = truncate_text(text)                      # Truncate to 512 token\n",
        "  return text"
      ],
      "metadata": {
        "id": "awkXp98GZuTL"
      },
      "execution_count": null,
      "outputs": []
    },
    {
      "cell_type": "markdown",
      "source": [
        "## Expand Text"
      ],
      "metadata": {
        "id": "1I09ogdDZ8eD"
      }
    },
    {
      "cell_type": "code",
      "source": [
        "def get_wordnet_pos(treebank_tag):\n",
        "    \"\"\"Maps Penn Treebank POS to Wordnet POS.\"\"\"\n",
        "    if treebank_tag.startswith('J'):\n",
        "        return 'a'  # Adjective\n",
        "    elif treebank_tag.startswith('V'):\n",
        "        return 'v'  # Verb\n",
        "    elif treebank_tag.startswith('N'):\n",
        "        return 'n'  # Noun\n",
        "    elif treebank_tag.startswith('R'):\n",
        "        return 'r'  # Adverb\n",
        "    else:\n",
        "        return None\n",
        "\n",
        "def expand_text(text, max_synonyms=2):\n",
        "    \"\"\"Expand text by adding smart synonyms from Wordnet.\"\"\"\n",
        "    words = word_tokenize(text)\n",
        "    pos_tags = pos_tag(words)\n",
        "    expanded_words = []\n",
        "\n",
        "    for word, tag in pos_tags:\n",
        "        wn_pos = get_wordnet_pos(tag)\n",
        "        if wn_pos:\n",
        "            # Get synonyms from Wordnet\n",
        "            synsets = id_wn.synsets(word, pos=wn_pos, lang='ind')\n",
        "            lemmas = set()\n",
        "            for synset in synsets:\n",
        "                for lemma in synset.lemmas():\n",
        "                    lemmas.add(lemma.name())\n",
        "            selected_synonyms = list(lemmas)[:max_synonyms]\n",
        "            expanded_words.append(word)\n",
        "            expanded_words.extend(selected_synonyms)\n",
        "        else:\n",
        "            expanded_words.append(word)\n",
        "\n",
        "    expanded_text = ' '.join(expanded_words)\n",
        "    return expanded_text"
      ],
      "metadata": {
        "id": "o_UBhAiVZ_Bp"
      },
      "execution_count": null,
      "outputs": []
    },
    {
      "cell_type": "markdown",
      "source": [
        "## Text Embedding: BERT"
      ],
      "metadata": {
        "id": "GFXdtauuZ_4X"
      }
    },
    {
      "cell_type": "code",
      "source": [
        "def embed_text_bert(text):\n",
        "  tokenized_text = bert_tokenizer(text, return_tensors=\"pt\", padding=True, truncation=True, max_length=512)\n",
        "  with torch.no_grad():\n",
        "      embedding = bert_model(**tokenized_text)\n",
        "  squeezed_embedding = embedding.last_hidden_state.squeeze(0) # Extract the token embedding\n",
        "  avg_embedding = squeezed_embedding.mean(dim=0).numpy() # Count average\n",
        "  return avg_embedding"
      ],
      "metadata": {
        "id": "q4oDLqSfaCAG"
      },
      "execution_count": null,
      "outputs": []
    },
    {
      "cell_type": "markdown",
      "source": [
        "## Text Embedding: ELMo"
      ],
      "metadata": {
        "id": "IFBpCm8MaDHY"
      }
    },
    {
      "cell_type": "code",
      "source": [
        "def embed_text_elmo(text):\n",
        "  text = tf.constant([text])\n",
        "  embedding = elmo.signatures[\"default\"](text)[\"elmo\"]\n",
        "  squeezed_embedding = tf.squeeze(embedding, axis=0) # Extract\n",
        "  avg_embedding = tf.reduce_mean(squeezed_embedding, axis=0).numpy() # Count average, convert to numpy\n",
        "  return avg_embedding"
      ],
      "metadata": {
        "id": "WOnKBndnaGNr"
      },
      "execution_count": null,
      "outputs": []
    },
    {
      "cell_type": "markdown",
      "source": [
        "## Text Embedding: Fasttext"
      ],
      "metadata": {
        "id": "7sLyEMtBaEag"
      }
    },
    {
      "cell_type": "code",
      "source": [
        "def embed_text_ft(text):\n",
        "  words = text.split()\n",
        "  vectors = [ft_model.get_word_vector(word) for word in words]\n",
        "  avg_embedding = np.mean(vectors, axis=0)\n",
        "  return avg_embedding"
      ],
      "metadata": {
        "id": "9fhwmFapaGlv"
      },
      "execution_count": null,
      "outputs": []
    },
    {
      "cell_type": "markdown",
      "source": [
        "## Compute Similarity"
      ],
      "metadata": {
        "id": "uzTd2iJKRj-A"
      }
    },
    {
      "cell_type": "code",
      "source": [
        "def sim_result(text, ref, threshold = 0.7):\n",
        "  sim_matrix = cosine_similarity(text,ref)\n",
        "  if threshold:\n",
        "    pred_matrix = (sim_matrix > threshold).astype(int)\n",
        "    pred_result = np.diagonal(pred_matrix)\n",
        "    return pred_result                        # return list of binary result\n",
        "  else:\n",
        "    sim_result = np.diagonal(sim_matrix)\n",
        "    return sim_result"
      ],
      "metadata": {
        "id": "nP2xBQ06RmRI"
      },
      "execution_count": null,
      "outputs": []
    },
    {
      "cell_type": "markdown",
      "source": [
        "# Main Process\n",
        "Note: CM format [ [TN, FP], [FN, TP] ]"
      ],
      "metadata": {
        "id": "iBEa4xcgaRgs"
      }
    },
    {
      "cell_type": "markdown",
      "source": [
        "## Process Text"
      ],
      "metadata": {
        "id": "QD4JdC1-UF68"
      }
    },
    {
      "cell_type": "code",
      "source": [
        "# Converted DataFrame\n",
        "data_text_life = data_life['student_answer'].tolist()\n",
        "data_ref_life = data_life['key_answer'].tolist()\n",
        "data_text_sport = data_sport['student_answer'].tolist()\n",
        "data_ref_sport = data_sport['key_answer'].tolist()\n",
        "data_text_pol = data_pol['student_answer'].tolist()\n",
        "data_ref_pol = data_pol['key_answer'].tolist()\n",
        "data_text_tech = data_tech['student_answer'].tolist()\n",
        "data_ref_tech = data_tech['key_answer'].tolist()\n",
        "\n",
        "# Preprocessed text\n",
        "data_text_life = [text_preprocessing(text) for text in data_text_life]\n",
        "data_ref_life = [text_preprocessing(ref) for ref in data_ref_life]\n",
        "data_text_sport = [text_preprocessing(text) for text in data_text_sport]\n",
        "data_ref_sport = [text_preprocessing(ref) for ref in data_ref_sport]\n",
        "data_text_life = [text_preprocessing(text) for text in data_text_life]\n",
        "data_text_pol = [text_preprocessing(ref) for ref in data_text_pol]\n",
        "data_text_tech = [text_preprocessing(text) for text in data_text_tech]\n",
        "data_ref_tech = [text_preprocessing(ref) for ref in data_ref_tech]\n",
        "\n",
        "# WordNet processed text\n",
        "expanded_text_life = [expand_text(text) for text in data_text_life]\n",
        "expanded_ref_life = [expand_text(ref) for ref in data_ref_life]\n",
        "expanded_text_sport = [expand_text(text) for text in data_text_sport]\n",
        "expanded_ref_sport = [expand_text(ref) for ref in data_ref_sport]\n",
        "expanded_text_pol = [expand_text(text) for text in data_text_pol]\n",
        "expanded_ref_pol = [expand_text(ref) for ref in data_ref_pol]\n",
        "expanded_text_tech = [expand_text(text) for text in data_text_tech]\n",
        "expanded_ref_tech = [expand_text(ref) for ref in data_ref_tech]"
      ],
      "metadata": {
        "id": "c5NSPtOLSdjs"
      },
      "execution_count": null,
      "outputs": []
    },
    {
      "cell_type": "markdown",
      "source": [
        "## Data: Lifestyle"
      ],
      "metadata": {
        "id": "DBHYCiw5WeTw"
      }
    },
    {
      "cell_type": "code",
      "source": [
        "# BERT no expand\n",
        "embed_text_life_bert_ne = np.array([embed_text_bert(text) for text in data_text_life])\n",
        "embed_ref_life_bert_ne = np.array([embed_text_bert(ref) for ref in data_ref_life])\n",
        "\n",
        "# Compute similarity\n",
        "pred = sim_result(embed_text_life_bert_ne, embed_ref_life_bert_ne)\n",
        "\n",
        "# Evaluation\n",
        "cm = confusion_matrix(data_life['label'].to_numpy(), pred)\n",
        "report_bert_life_ne = classification_report(data_life['label'].to_numpy(), pred)\n",
        "\n",
        "print(cm)\n",
        "print(report_bert_life_ne)"
      ],
      "metadata": {
        "id": "MX6Fw4TYa6uG",
        "collapsed": true
      },
      "execution_count": null,
      "outputs": []
    },
    {
      "cell_type": "code",
      "source": [
        "# BERT expand\n",
        "embed_text_life_bert_e = np.array([embed_text_bert(text) for text in expanded_text_life])\n",
        "embed_ref_life_bert_e = np.array([embed_text_bert(ref) for ref in expanded_ref_life])\n",
        "\n",
        "# Compute similarity\n",
        "pred = sim_result(embed_text_life_bert_e, embed_ref_life_bert_e)\n",
        "\n",
        "# Evaluation\n",
        "cm = confusion_matrix(data_life['label'].to_numpy(), pred)\n",
        "report_bert_life_e = classification_report(data_life['label'].to_numpy(), pred)\n",
        "\n",
        "print(cm)\n",
        "print(report_bert_life_e)"
      ],
      "metadata": {
        "id": "OmFYjaJyWqvk"
      },
      "execution_count": null,
      "outputs": []
    },
    {
      "cell_type": "code",
      "source": [
        "# ELMo no expand\n",
        "embed_text_life_elmo_ne = np.array([embed_text_elmo(text) for text in data_text_life])\n",
        "embed_ref_life_elmo_ne = np.array([embed_text_elmo(ref) for ref in data_ref_life])\n",
        "\n",
        "# Compute similarity\n",
        "pred = sim_result(embed_text_life_elmo_ne, embed_ref_life_elmo_ne)\n",
        "\n",
        "# Evaluation\n",
        "cm = confusion_matrix(data_life['label'].to_numpy(), pred)\n",
        "report_elmo_life_ne = classification_report(data_life['label'].to_numpy(), pred)\n",
        "\n",
        "print(cm)\n",
        "print(report_elmo_life_ne)"
      ],
      "metadata": {
        "colab": {
          "base_uri": "https://localhost:8080/"
        },
        "id": "5Jjp3ihtWvPc",
        "outputId": "124f7613-e624-43c6-94fb-2fca8c65e2e1"
      },
      "execution_count": null,
      "outputs": [
        {
          "output_type": "stream",
          "name": "stdout",
          "text": [
            "[[ 40 511]\n",
            " [  0  15]]\n",
            "              precision    recall  f1-score   support\n",
            "\n",
            "           0       1.00      0.07      0.14       551\n",
            "           1       0.03      1.00      0.06        15\n",
            "\n",
            "    accuracy                           0.10       566\n",
            "   macro avg       0.51      0.54      0.10       566\n",
            "weighted avg       0.97      0.10      0.13       566\n",
            "\n"
          ]
        }
      ]
    },
    {
      "cell_type": "code",
      "source": [
        "# ELMo expand\n",
        "embed_text_life_elmo_e = np.array([embed_text_elmo(text) for text in expanded_text_life]) # use wordnet processed text\n",
        "embed_ref_life_elmo_e = np.array([embed_text_elmo(ref) for ref in expanded_ref_life])\n",
        "\n",
        "# Compute similarity\n",
        "pred = sim_result(embed_text_life_elmo_e, embed_ref_life_elmo_e)\n",
        "\n",
        "# Evaluation\n",
        "cm = confusion_matrix(data_life['label'].to_numpy(), pred)\n",
        "report_elmo_life_e = classification_report(data_life['label'].to_numpy(), pred)\n",
        "\n",
        "print(cm)\n",
        "print(report_elmo_life_e)"
      ],
      "metadata": {
        "id": "Qyqeele8bTdQ",
        "colab": {
          "base_uri": "https://localhost:8080/"
        },
        "outputId": "0979c765-e9ec-4d46-a0cf-51f3e4c7c6fb"
      },
      "execution_count": null,
      "outputs": [
        {
          "output_type": "stream",
          "name": "stdout",
          "text": [
            "[[ 44 507]\n",
            " [  0  15]]\n",
            "              precision    recall  f1-score   support\n",
            "\n",
            "           0       1.00      0.08      0.15       551\n",
            "           1       0.03      1.00      0.06        15\n",
            "\n",
            "    accuracy                           0.10       566\n",
            "   macro avg       0.51      0.54      0.10       566\n",
            "weighted avg       0.97      0.10      0.15       566\n",
            "\n"
          ]
        }
      ]
    },
    {
      "cell_type": "code",
      "source": [
        "# Fasttext no expand\n",
        "embed_text_life_ft_ne = np.array([embed_text_ft(text) for text in data_text_life])\n",
        "embed_ref_life_ft_ne = np.array([embed_text_ft(ref) for ref in data_ref_life])\n",
        "\n",
        "# Compute similarity\n",
        "pred = sim_result(embed_text_life_ft_ne, embed_ref_life_ft_ne)\n",
        "\n",
        "# Evaluation\n",
        "cm = confusion_matrix(data_life['label'].to_numpy(), pred)\n",
        "report_ft_life_ne = classification_report(data_life['label'].to_numpy(), pred)\n",
        "\n",
        "print(cm)\n",
        "print(report_ft_life_ne)"
      ],
      "metadata": {
        "id": "jeD4_GnebVXN",
        "collapsed": true
      },
      "execution_count": null,
      "outputs": []
    },
    {
      "cell_type": "code",
      "source": [
        "# Fasttext expand\n",
        "embed_text_life_ft_e = np.array([embed_text_ft(text) for text in expanded_text_life])\n",
        "embed_ref_life_ft_e = np.array([embed_text_ft(ref) for ref in expanded_ref_life])\n",
        "\n",
        "# Compute similarity\n",
        "pred = sim_result(embed_text_life_ft_e, embed_ref_life_ft_e)\n",
        "\n",
        "# Evaluation\n",
        "cm = confusion_matrix(data_life['label'].to_numpy(), pred)\n",
        "report_ft_life_e = classification_report(data_life['label'].to_numpy(), pred)\n",
        "\n",
        "print(cm)\n",
        "print(report_ft_life_e)"
      ],
      "metadata": {
        "id": "WZGMjIVyX95Q"
      },
      "execution_count": null,
      "outputs": []
    },
    {
      "cell_type": "markdown",
      "source": [
        "## Data: Sport"
      ],
      "metadata": {
        "id": "LAZpE85aNSEY"
      }
    },
    {
      "cell_type": "code",
      "source": [
        "# BERT no expand\n",
        "embed_text_sport_bert_ne = np.array([embed_text_bert(text) for text in data_text_sport])\n",
        "embed_ref_sport_bert_ne = np.array([embed_text_bert(ref) for ref in data_ref_sport])\n",
        "\n",
        "# Compute similarity\n",
        "pred = sim_result(embed_text_sport_bert_ne, embed_ref_sport_bert_ne)\n",
        "\n",
        "# Evaluation\n",
        "cm = confusion_matrix(data_sport['label'].to_numpy(), pred)\n",
        "report_bert_sport_ne = classification_report(data_sport['label'].to_numpy(), pred)\n",
        "\n",
        "print(cm)\n",
        "print(report_bert_sport_ne)"
      ],
      "metadata": {
        "id": "ZjRuxsk4YHnt"
      },
      "execution_count": null,
      "outputs": []
    },
    {
      "cell_type": "code",
      "source": [
        "# BERT expand\n",
        "embed_text_sport_bert_e = np.array([embed_text_bert(text) for text in expanded_text_sport])\n",
        "embed_ref_sport_bert_e = np.array([embed_text_bert(ref) for ref in expanded_ref_sport])\n",
        "\n",
        "# Compute similarity\n",
        "pred = sim_result(embed_text_sport_bert_e, embed_ref_sport_bert_e)\n",
        "\n",
        "# Evaluation\n",
        "cm = confusion_matrix(data_sport['label'].to_numpy(), pred)\n",
        "report_bert_sport_e = classification_report(data_sport['label'].to_numpy(), pred)\n",
        "\n",
        "print(cm)\n",
        "print(report_bert_sport_e)"
      ],
      "metadata": {
        "id": "QrU8uzv1YHnt"
      },
      "execution_count": null,
      "outputs": []
    },
    {
      "cell_type": "code",
      "source": [
        "# ELMo no expand\n",
        "embed_text_sport_elmo_ne = np.array([embed_text_elmo(text) for text in data_text_sport])\n",
        "embed_ref_sport_elmo_ne = np.array([embed_text_elmo(ref) for ref in data_ref_sport])\n",
        "\n",
        "# Compute similarity\n",
        "pred = sim_result(embed_text_sport_elmo_ne, embed_ref_sport_elmo_ne)\n",
        "\n",
        "# Evaluation\n",
        "cm = confusion_matrix(data_sport['label'].to_numpy(), pred)\n",
        "report_elmo_sport_ne = classification_report(data_sport['label'].to_numpy(), pred)\n",
        "\n",
        "print(cm)\n",
        "print(report_elmo_sport_ne)"
      ],
      "metadata": {
        "id": "PnCd9VIjYHnt",
        "colab": {
          "base_uri": "https://localhost:8080/"
        },
        "outputId": "e109802c-6068-41bf-ca96-8b32bec21de0"
      },
      "execution_count": null,
      "outputs": [
        {
          "output_type": "stream",
          "name": "stdout",
          "text": [
            "[[ 32 413]\n",
            " [  0  99]]\n",
            "              precision    recall  f1-score   support\n",
            "\n",
            "           0       1.00      0.07      0.13       445\n",
            "           1       0.19      1.00      0.32        99\n",
            "\n",
            "    accuracy                           0.24       544\n",
            "   macro avg       0.60      0.54      0.23       544\n",
            "weighted avg       0.85      0.24      0.17       544\n",
            "\n"
          ]
        }
      ]
    },
    {
      "cell_type": "code",
      "source": [
        "# ELMo expand\n",
        "embed_text_sport_elmo_e = np.array([embed_text_elmo(text) for text in expanded_text_sport]) # use wordnet processed text\n",
        "embed_ref_sport_elmo_e = np.array([embed_text_elmo(ref) for ref in expanded_ref_sport])\n",
        "\n",
        "# Compute similarity\n",
        "pred = sim_result(embed_text_sport_elmo_e, embed_ref_sport_elmo_e)\n",
        "\n",
        "# Evaluation\n",
        "cm = confusion_matrix(data_sport['label'].to_numpy(), pred)\n",
        "report_elmo_sport_e = classification_report(data_sport['label'].to_numpy(), pred)\n",
        "\n",
        "print(cm)\n",
        "print(report_elmo_sport_e)"
      ],
      "metadata": {
        "id": "L-MHeHBlYHnu",
        "colab": {
          "base_uri": "https://localhost:8080/"
        },
        "outputId": "1d758846-b24e-4690-c612-f6a439854fb7"
      },
      "execution_count": null,
      "outputs": [
        {
          "output_type": "stream",
          "name": "stdout",
          "text": [
            "[[ 30 415]\n",
            " [  0  99]]\n",
            "              precision    recall  f1-score   support\n",
            "\n",
            "           0       1.00      0.07      0.13       445\n",
            "           1       0.19      1.00      0.32        99\n",
            "\n",
            "    accuracy                           0.24       544\n",
            "   macro avg       0.60      0.53      0.22       544\n",
            "weighted avg       0.85      0.24      0.16       544\n",
            "\n"
          ]
        }
      ]
    },
    {
      "cell_type": "code",
      "source": [
        "# Fasttext no expand\n",
        "embed_text_sport_ft_ne = np.array([embed_text_ft(text) for text in data_text_sport])\n",
        "embed_ref_sport_ft_ne = np.array([embed_text_ft(ref) for ref in data_ref_sport])\n",
        "\n",
        "# Compute similarity\n",
        "pred = sim_result(embed_text_sport_ft_ne, embed_ref_sport_ft_ne)\n",
        "\n",
        "# Evaluation\n",
        "cm = confusion_matrix(data_sport['label'].to_numpy(), pred)\n",
        "report_ft_sport_ne = classification_report(data_sport['label'].to_numpy(), pred)\n",
        "\n",
        "print(cm)\n",
        "print(report_ft_sport_ne)"
      ],
      "metadata": {
        "id": "sNCBY1p0YHnu"
      },
      "execution_count": null,
      "outputs": []
    },
    {
      "cell_type": "code",
      "source": [
        "# Fasttext expand\n",
        "embed_text_sport_ft_e = np.array([embed_text_ft(text) for text in expanded_text_sport])\n",
        "embed_ref_sport_ft_e = np.array([embed_text_ft(ref) for ref in expanded_ref_sport])\n",
        "\n",
        "# Compute similarity\n",
        "pred = sim_result(embed_text_sport_ft_e, embed_ref_sport_ft_e)\n",
        "\n",
        "# Evaluation\n",
        "cm = confusion_matrix(data_sport['label'].to_numpy(), pred)\n",
        "report_ft_sport_e = classification_report(data_sport['label'].to_numpy(), pred)\n",
        "\n",
        "print(cm)\n",
        "print(report_ft_sport_e)"
      ],
      "metadata": {
        "id": "MisBmwtAYHnu"
      },
      "execution_count": null,
      "outputs": []
    },
    {
      "cell_type": "markdown",
      "source": [
        "## Data: Politics"
      ],
      "metadata": {
        "id": "5_KJ2FGBYZys"
      }
    },
    {
      "cell_type": "code",
      "source": [
        "# BERT no expand\n",
        "embed_text_pol_bert_ne = np.array([embed_text_bert(text) for text in data_text_pol])\n",
        "embed_ref_pol_bert_ne = np.array([embed_text_bert(ref) for ref in data_ref_pol])\n",
        "\n",
        "# Compute similarity\n",
        "pred = sim_result(embed_text_pol_bert_ne, embed_ref_pol_bert_ne)\n",
        "\n",
        "# Evaluation\n",
        "cm = confusion_matrix(data_pol['label'].to_numpy(), pred)\n",
        "report_bert_pol_ne = classification_report(data_pol['label'].to_numpy(), pred)\n",
        "\n",
        "print(cm)\n",
        "print(report_bert_pol_ne)"
      ],
      "metadata": {
        "id": "QpsRQSbxYckE"
      },
      "execution_count": null,
      "outputs": []
    },
    {
      "cell_type": "code",
      "source": [
        "# BERT expand\n",
        "embed_text_pol_bert_e = np.array([embed_text_bert(text) for text in expanded_text_pol])\n",
        "embed_ref_pol_bert_e = np.array([embed_text_bert(ref) for ref in expanded_ref_pol])\n",
        "\n",
        "# Compute similarity\n",
        "pred = sim_result(embed_text_pol_bert_e, embed_ref_pol_bert_e)\n",
        "\n",
        "# Evaluation\n",
        "cm = confusion_matrix(data_pol['label'].to_numpy(), pred)\n",
        "report_bert_pol_e = classification_report(data_pol['label'].to_numpy(), pred)\n",
        "\n",
        "print(cm)\n",
        "print(report_bert_pol_e)"
      ],
      "metadata": {
        "id": "SngqQnjzYckE"
      },
      "execution_count": null,
      "outputs": []
    },
    {
      "cell_type": "code",
      "source": [
        "# ELMo no expand\n",
        "embed_text_pol_elmo_ne = np.array([embed_text_elmo(text) for text in data_text_pol])\n",
        "embed_ref_pol_elmo_ne = np.array([embed_text_elmo(ref) for ref in data_ref_pol])\n",
        "\n",
        "# Compute similarity\n",
        "pred = sim_result(embed_text_pol_elmo_ne, embed_ref_pol_elmo_ne)\n",
        "\n",
        "# Evaluation\n",
        "cm = confusion_matrix(data_pol['label'].to_numpy(), pred)\n",
        "report_elmo_pol_ne = classification_report(data_pol['label'].to_numpy(), pred)\n",
        "\n",
        "print(cm)\n",
        "print(report_elmo_pol_ne)"
      ],
      "metadata": {
        "id": "E3OQJcJcYckE",
        "colab": {
          "base_uri": "https://localhost:8080/"
        },
        "outputId": "ba4ff9aa-db51-49b9-91cd-2dc70b755266"
      },
      "execution_count": null,
      "outputs": [
        {
          "output_type": "stream",
          "name": "stdout",
          "text": [
            "[[  9 339]\n",
            " [ 49 137]]\n",
            "              precision    recall  f1-score   support\n",
            "\n",
            "           0       0.16      0.03      0.04       348\n",
            "           1       0.29      0.74      0.41       186\n",
            "\n",
            "    accuracy                           0.27       534\n",
            "   macro avg       0.22      0.38      0.23       534\n",
            "weighted avg       0.20      0.27      0.17       534\n",
            "\n"
          ]
        }
      ]
    },
    {
      "cell_type": "code",
      "source": [
        "# ELMo expand\n",
        "embed_text_pol_elmo_e = np.array([embed_text_elmo(text) for text in expanded_text_pol]) # use wordnet processed text\n",
        "embed_ref_pol_elmo_e = np.array([embed_text_elmo(ref) for ref in expanded_ref_pol])\n",
        "\n",
        "# Compute similarity\n",
        "pred = sim_result(embed_text_pol_elmo_e, embed_ref_pol_elmo_e)\n",
        "\n",
        "# Evaluation\n",
        "cm = confusion_matrix(data_pol['label'].to_numpy(), pred)\n",
        "report_elmo_pol_e = classification_report(data_pol['label'].to_numpy(), pred)\n",
        "\n",
        "print(cm)\n",
        "print(report_elmo_pol_e)"
      ],
      "metadata": {
        "id": "RM8DxUgNYckE",
        "colab": {
          "base_uri": "https://localhost:8080/"
        },
        "outputId": "c141f4f6-38f8-478c-886d-e5c92604c371"
      },
      "execution_count": null,
      "outputs": [
        {
          "output_type": "stream",
          "name": "stdout",
          "text": [
            "[[  7 341]\n",
            " [  7 179]]\n",
            "              precision    recall  f1-score   support\n",
            "\n",
            "           0       0.50      0.02      0.04       348\n",
            "           1       0.34      0.96      0.51       186\n",
            "\n",
            "    accuracy                           0.35       534\n",
            "   macro avg       0.42      0.49      0.27       534\n",
            "weighted avg       0.45      0.35      0.20       534\n",
            "\n"
          ]
        }
      ]
    },
    {
      "cell_type": "code",
      "source": [
        "# Fasttext no expand\n",
        "embed_text_pol_ft_ne = np.array([embed_text_ft(text) for text in data_text_pol])\n",
        "embed_ref_pol_ft_ne = np.array([embed_text_ft(ref) for ref in data_ref_pol])\n",
        "\n",
        "# Compute similarity\n",
        "pred = sim_result(embed_text_pol_ft_ne, embed_ref_pol_ft_ne)\n",
        "\n",
        "# Evaluation\n",
        "cm = confusion_matrix(data_pol['label'].to_numpy(), pred)\n",
        "report_ft_pol_ne = classification_report(data_pol['label'].to_numpy(), pred)\n",
        "\n",
        "print(cm)\n",
        "print(report_ft_pol_ne)"
      ],
      "metadata": {
        "id": "bmpz9a7qYckE"
      },
      "execution_count": null,
      "outputs": []
    },
    {
      "cell_type": "code",
      "source": [
        "# Fasttext expand\n",
        "embed_text_pol_ft_e = np.array([embed_text_ft(text) for text in expanded_text_pol])\n",
        "embed_ref_pol_ft_e = np.array([embed_text_ft(ref) for ref in expanded_ref_pol])\n",
        "\n",
        "# Compute similarity\n",
        "pred = sim_result(embed_text_pol_ft_e, embed_ref_pol_ft_e)\n",
        "\n",
        "# Evaluation\n",
        "cm = confusion_matrix(data_pol['label'].to_numpy(), pred)\n",
        "report_ft_pol_e = classification_report(data_pol['label'].to_numpy(), pred)\n",
        "\n",
        "print(cm)\n",
        "print(report_ft_pol_e)"
      ],
      "metadata": {
        "id": "lcKfqiQoYckE"
      },
      "execution_count": null,
      "outputs": []
    },
    {
      "cell_type": "markdown",
      "source": [
        "## Data: Technology"
      ],
      "metadata": {
        "id": "b2loXclXZIUe"
      }
    },
    {
      "cell_type": "code",
      "source": [
        "# BERT no expand\n",
        "embed_text_tech_bert_ne = np.array([embed_text_bert(text) for text in data_text_tech])\n",
        "embed_ref_tech_bert_ne = np.array([embed_text_bert(ref) for ref in data_ref_tech])\n",
        "\n",
        "# Compute similarity\n",
        "pred = sim_result(embed_text_tech_bert_ne, embed_ref_tech_bert_ne)\n",
        "\n",
        "# Evaluation\n",
        "cm = confusion_matrix(data_tech['label'].to_numpy(), pred)\n",
        "report_bert_tech_ne = classification_report(data_tech['label'].to_numpy(), pred)\n",
        "\n",
        "print(cm)\n",
        "print(report_bert_tech_ne)"
      ],
      "metadata": {
        "id": "7ctX9mIAZLZs"
      },
      "execution_count": null,
      "outputs": []
    },
    {
      "cell_type": "code",
      "source": [
        "# BERT expand\n",
        "embed_text_tech_bert_e = np.array([embed_text_bert(text) for text in expanded_text_tech])\n",
        "embed_ref_tech_bert_e = np.array([embed_text_bert(ref) for ref in expanded_ref_tech])\n",
        "\n",
        "# Compute similarity\n",
        "pred = sim_result(embed_text_tech_bert_e, embed_ref_tech_bert_e)\n",
        "\n",
        "# Evaluation\n",
        "cm = confusion_matrix(data_tech['label'].to_numpy(), pred)\n",
        "report_bert_tech_e = classification_report(data_tech['label'].to_numpy(), pred)\n",
        "\n",
        "print(cm)\n",
        "print(report_bert_tech_e)"
      ],
      "metadata": {
        "id": "fbcO-h4HZLZs"
      },
      "execution_count": null,
      "outputs": []
    },
    {
      "cell_type": "code",
      "source": [
        "# ELMo no expand\n",
        "embed_text_tech_elmo_ne = np.array([embed_text_elmo(text) for text in data_text_tech])\n",
        "embed_ref_tech_elmo_ne = np.array([embed_text_elmo(ref) for ref in data_ref_tech])\n",
        "\n",
        "# Compute similarity\n",
        "pred = sim_result(embed_text_tech_elmo_ne, embed_ref_tech_elmo_ne)\n",
        "\n",
        "# Evaluation\n",
        "cm = confusion_matrix(data_tech['label'].to_numpy(), pred)\n",
        "report_elmo_tech_ne = classification_report(data_tech['label'].to_numpy(), pred)\n",
        "\n",
        "print(cm)\n",
        "print(report_elmo_tech_ne)"
      ],
      "metadata": {
        "id": "IM8kzOplZLZs",
        "colab": {
          "base_uri": "https://localhost:8080/"
        },
        "outputId": "c64603f1-882e-46cd-a2d1-a389c7a19284"
      },
      "execution_count": null,
      "outputs": [
        {
          "output_type": "stream",
          "name": "stdout",
          "text": [
            "[[ 41 368]\n",
            " [  3 101]]\n",
            "              precision    recall  f1-score   support\n",
            "\n",
            "           0       0.93      0.10      0.18       409\n",
            "           1       0.22      0.97      0.35       104\n",
            "\n",
            "    accuracy                           0.28       513\n",
            "   macro avg       0.57      0.54      0.27       513\n",
            "weighted avg       0.79      0.28      0.22       513\n",
            "\n"
          ]
        }
      ]
    },
    {
      "cell_type": "code",
      "source": [
        "# ELMo expand\n",
        "embed_text_tech_elmo_e = np.array([embed_text_elmo(text) for text in expanded_text_tech]) # use wordnet processed text\n",
        "embed_ref_tech_elmo_e = np.array([embed_text_elmo(ref) for ref in expanded_ref_tech])\n",
        "\n",
        "# Compute similarity\n",
        "pred = sim_result(embed_text_tech_elmo_e, embed_ref_tech_elmo_e)\n",
        "\n",
        "# Evaluation\n",
        "cm = confusion_matrix(data_tech['label'].to_numpy(), pred)\n",
        "report_elmo_tech_e = classification_report(data_tech['label'].to_numpy(), pred)\n",
        "\n",
        "print(cm)\n",
        "print(report_elmo_tech_e)"
      ],
      "metadata": {
        "id": "fTuaENJaZLZs",
        "colab": {
          "base_uri": "https://localhost:8080/"
        },
        "outputId": "d74b07d3-a02d-45aa-a054-1e7c2b27803c"
      },
      "execution_count": null,
      "outputs": [
        {
          "output_type": "stream",
          "name": "stdout",
          "text": [
            "[[ 39 370]\n",
            " [  4 100]]\n",
            "              precision    recall  f1-score   support\n",
            "\n",
            "           0       0.91      0.10      0.17       409\n",
            "           1       0.21      0.96      0.35       104\n",
            "\n",
            "    accuracy                           0.27       513\n",
            "   macro avg       0.56      0.53      0.26       513\n",
            "weighted avg       0.77      0.27      0.21       513\n",
            "\n"
          ]
        }
      ]
    },
    {
      "cell_type": "code",
      "source": [
        "# Fasttext no expand\n",
        "embed_text_tech_ft_ne = np.array([embed_text_ft(text) for text in data_text_tech])\n",
        "embed_ref_tech_ft_ne = np.array([embed_text_ft(ref) for ref in data_ref_tech])\n",
        "\n",
        "# Compute similarity\n",
        "pred = sim_result(embed_text_tech_ft_ne, embed_ref_tech_ft_ne)\n",
        "\n",
        "# Evaluation\n",
        "cm = confusion_matrix(data_tech['label'].to_numpy(), pred)\n",
        "report_ft_tech_ne = classification_report(data_tech['label'].to_numpy(), pred)\n",
        "\n",
        "print(cm)\n",
        "print(report_ft_tech_ne)"
      ],
      "metadata": {
        "id": "8Ja030v6ZLZs",
        "colab": {
          "base_uri": "https://localhost:8080/"
        },
        "outputId": "ac783cc6-015a-45b8-fbb9-c93ad6b39dbf"
      },
      "execution_count": null,
      "outputs": [
        {
          "output_type": "stream",
          "name": "stdout",
          "text": [
            "[[ 41 370]\n",
            " [  2 102]]\n",
            "              precision    recall  f1-score   support\n",
            "\n",
            "           0       0.95      0.10      0.18       411\n",
            "           1       0.22      0.98      0.35       104\n",
            "\n",
            "    accuracy                           0.28       515\n",
            "   macro avg       0.58      0.54      0.27       515\n",
            "weighted avg       0.80      0.28      0.22       515\n",
            "\n"
          ]
        }
      ]
    },
    {
      "cell_type": "code",
      "source": [
        "# Fasttext expand\n",
        "embed_text_tech_ft_e = np.array([embed_text_ft(text) for text in expanded_text_tech])\n",
        "embed_ref_tech_ft_e = np.array([embed_text_ft(ref) for ref in expanded_ref_tech])\n",
        "\n",
        "# Compute similarity\n",
        "pred = sim_result(embed_text_tech_ft_e, embed_ref_tech_ft_e)\n",
        "\n",
        "# Evaluation\n",
        "cm = confusion_matrix(data_tech['label'].to_numpy(), pred)\n",
        "report_ft_tech_e = classification_report(data_tech['label'].to_numpy(), pred)\n",
        "\n",
        "print(cm)\n",
        "print(report_ft_tech_e)"
      ],
      "metadata": {
        "id": "0DogwSlZZLZs",
        "colab": {
          "base_uri": "https://localhost:8080/"
        },
        "outputId": "069bee23-59b1-47e7-ee97-1147759e1d90"
      },
      "execution_count": null,
      "outputs": [
        {
          "output_type": "stream",
          "name": "stdout",
          "text": [
            "[[ 47 364]\n",
            " [  2 102]]\n",
            "              precision    recall  f1-score   support\n",
            "\n",
            "           0       0.96      0.11      0.20       411\n",
            "           1       0.22      0.98      0.36       104\n",
            "\n",
            "    accuracy                           0.29       515\n",
            "   macro avg       0.59      0.55      0.28       515\n",
            "weighted avg       0.81      0.29      0.24       515\n",
            "\n"
          ]
        }
      ]
    },
    {
      "cell_type": "markdown",
      "source": [
        "# Visualization"
      ],
      "metadata": {
        "id": "KMI8g1RjEa7T"
      }
    },
    {
      "cell_type": "code",
      "source": [
        "similarity_scores = np.diagonal(cosine_similarity(embed_text_life_elmo_ne,embed_ref_life_elmo_ne))\n",
        "similarity_scores = [s * 100 for s in similarity_scores]\n",
        "human_scores = np.array(data_life['manual_average_score'].tolist())\n",
        "similarity_scores = similarity_scores[:100]\n",
        "human_scores = human_scores[:100]\n",
        "x = np.arange(1, 101)\n",
        "\n",
        "# x = list(range(1, len(similarity_scores) + 1))  # Question or sample index\n",
        "\n",
        "plt.figure(figsize=(14, 5))\n",
        "plt.plot(x, similarity_scores, label='Similarity Score (0–100)', color='blue', marker='o')\n",
        "plt.plot(x, human_scores, label='Human Score (0–100)', color='green', marker='s')\n",
        "\n",
        "plt.xlabel('Sample Index')\n",
        "plt.ylabel('Score (0–100)')\n",
        "plt.title('Trend: Scaled Similarity vs Human Score')\n",
        "plt.legend()\n",
        "plt.grid(True)\n",
        "plt.tight_layout()\n",
        "plt.show()"
      ],
      "metadata": {
        "colab": {
          "base_uri": "https://localhost:8080/",
          "height": 507
        },
        "id": "6iXjD6j57f8_",
        "outputId": "56d49d80-4161-4af0-b3aa-a89d8f4c444f"
      },
      "execution_count": null,
      "outputs": [
        {
          "output_type": "display_data",
          "data": {
            "text/plain": [
              "<Figure size 1400x500 with 1 Axes>"
            ],
            "image/png": "[encoded data removed]"
          },
          "metadata": {}
        }
      ]
    },
    {
      "cell_type": "code",
      "source": [
        "similarity_scores = np.diagonal(cosine_similarity(embed_text_tech_ft_e,embed_ref_tech_ft_e))\n",
        "similarity_scores = [s * 100 for s in similarity_scores]\n",
        "human_scores = np.array(data_tech['manual_average_score'].tolist())\n",
        "similarity_scores = similarity_scores[:100]\n",
        "human_scores = human_scores[:100]\n",
        "x = np.arange(1, 101)\n",
        "# x = list(range(1, len(similarity_scores) + 1))  # Question or sample index\n",
        "\n",
        "plt.figure(figsize=(14, 5))\n",
        "plt.plot(x, similarity_scores, label='Similarity Score (0–100)', color='blue', marker='o')\n",
        "plt.plot(x, human_scores, label='Human Score (0–100)', color='green', marker='s')\n",
        "\n",
        "plt.xlabel('Sample Index')\n",
        "plt.ylabel('Score (0–100)')\n",
        "plt.title('Trend: Scaled Similarity vs Human Score')\n",
        "plt.legend()\n",
        "plt.grid(True)\n",
        "plt.tight_layout()\n",
        "plt.show()"
      ],
      "metadata": {
        "id": "qt6xhgV1HZSw",
        "outputId": "7d8f70b4-856f-4985-88ef-518f3839a487",
        "colab": {
          "base_uri": "https://localhost:8080/",
          "height": 507
        }
      },
      "execution_count": null,
      "outputs": [
        {
          "output_type": "display_data",
          "data": {
            "text/plain": [
              "<Figure size 1400x500 with 1 Axes>"
            ],
            "image/png": "[encoded data removed]"
          },
          "metadata": {}
        }
      ]
    },
    {
      "cell_type": "markdown",
      "source": [
        "# Experiment"
      ],
      "metadata": {
        "id": "XZtn_W8M4507"
      }
    },
    {
      "cell_type": "code",
      "source": [
        "print(data_text_life[0])\n",
        "print(data_ref_life[0])"
      ],
      "metadata": {
        "colab": {
          "base_uri": "https://localhost:8080/"
        },
        "id": "X6HINZzB5Cer",
        "outputId": "528ff6b7-77d4-4e93-b55e-67e129bb48f1"
      },
      "execution_count": null,
      "outputs": [
        {
          "output_type": "stream",
          "name": "stdout",
          "text": [
            "sumber tenaga pemanis alami menjaga sistem imun dan sebagai keseimbangan tubuh\n",
            "fungsi karbohidrat adalah sebagai pemasok energi dapat memperlancar proses pada pencernaan memberikan efek kenyang dengan kandungan selulosanya dan penyeimbang asam dan basa dalam tubuh\n"
          ]
        }
      ]
    },
    {
      "cell_type": "code",
      "source": [
        "x = \"aku suka makan sate\"\n",
        "y = \"bukannya itu dia kemarin\"\n",
        "\n",
        "a1 = embed_text_elmo(x)\n",
        "a2 = embed_text_elmo(y)\n",
        "\n",
        "print(a1)\n",
        "print(cosine_similarity([a1],[a2]))"
      ],
      "metadata": {
        "colab": {
          "base_uri": "https://localhost:8080/"
        },
        "id": "A1hBVMp6s0ST",
        "outputId": "8b5340b8-89c0-489c-8032-818229df4a7a"
      },
      "execution_count": null,
      "outputs": [
        {
          "output_type": "stream",
          "name": "stdout",
          "text": [
            "[ 0.12937404  0.25681525  0.13621211 ...  0.09669563  0.4547836\n",
            " -0.10412923]\n",
            "[[0.8344592]]\n"
          ]
        }
      ]
    }
  ],
  "metadata": {
    "colab": {
      "provenance": [],
      "collapsed_sections": [
        "p1mnMtw1ZxBV",
        "1I09ogdDZ8eD",
        "LAZpE85aNSEY",
        "5_KJ2FGBYZys",
        "b2loXclXZIUe"
      ],
      "authorship_tag": "ABX9TyNLeshNIZ7WwQvEVOuhODfb",
      "include_colab_link": true
    },
    "kernelspec": {
      "display_name": "Python 3",
      "name": "python3"
    },
    "language_info": {
      "name": "python"
    }
  },
  "nbformat": 4,
  "nbformat_minor": 0
}